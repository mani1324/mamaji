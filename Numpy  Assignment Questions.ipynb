{
 "cells": [
  {
   "cell_type": "code",
   "execution_count": 1,
   "id": "86e1f7d4-66bd-4c43-9cb0-f2acae520dcd",
   "metadata": {},
   "outputs": [],
   "source": [
    "import numpy as np"
   ]
  },
  {
   "cell_type": "code",
   "execution_count": null,
   "id": "a99ad028-91e3-4731-9a35-0e419bdf3bda",
   "metadata": {},
   "outputs": [],
   "source": [
    "##1. What is a Python library? Why do we use Python libraries?\n",
    "'''\n",
    "A Python library is a collection of pre-written code that you can use in your Python programs.\n",
    "We use them to save time and effort by reusing existing code, making it easier to perform common\n",
    "tasks or solve specific problems. Libraries provide ready-made solutions, so you don't have to \n",
    "start coding from scratch. They make development faster, more efficient, and allow you to tap \n",
    "into the collective knowledge of the Python community.\n",
    "\n",
    "Example:-NumPy,Pandas ,Matplotlib etc\n",
    "'''"
   ]
  },
  {
   "cell_type": "code",
   "execution_count": null,
   "id": "f40dfd32-240a-4617-875c-d4fa5f5dd5ed",
   "metadata": {},
   "outputs": [],
   "source": [
    "##2. What is the difference between Numpy array and List?\n",
    "\n",
    "'''\n",
    "        List:\n",
    "\n",
    "(1).Can contain different data types.\n",
    "(2).Less memory-efficient.\n",
    "(3).Slower for numerical operations.\n",
    "(4).General-purpose and versatile.\n",
    "\n",
    "        NumPy Array:\n",
    "\n",
    "(1).Must contain elements of the same data type.\n",
    "(2).More memory-efficient.\n",
    "(3).Faster for numerical operations.\n",
    "(4).Specialized for numerical computations.\n",
    "\n",
    "'''"
   ]
  },
  {
   "cell_type": "code",
   "execution_count": 2,
   "id": "7a53e215-247f-4b1a-a2d2-f3cb07430f2f",
   "metadata": {},
   "outputs": [
    {
     "name": "stdout",
     "output_type": "stream",
     "text": [
      "12\n",
      "(3, 4)\n",
      "2\n"
     ]
    }
   ],
   "source": [
    "'''\n",
    "3. Find the shape, size and dimension of the following array?\n",
    "[[1, 2, 3, 4]\n",
    "[5, 6, 7, 8],\n",
    "[9, 10, 11, 12]]\n",
    "'''\n",
    "import numpy as np\n",
    "\n",
    "a=[[1, 2, 3, 4],\n",
    "   [5, 6, 7, 8],\n",
    "   [9, 10, 11, 12]]\n",
    "arr =np.asarray(a)\n",
    "arr\n",
    "print(arr.size) ## for size\n",
    "print(arr.shape)## for shape\n",
    "print(arr.ndim)## for dimension"
   ]
  },
  {
   "cell_type": "code",
   "execution_count": 3,
   "id": "8ec2965c-6034-4667-8bad-d424621c09b3",
   "metadata": {},
   "outputs": [
    {
     "data": {
      "text/plain": [
       "[1, 2, 3, 4]"
      ]
     },
     "execution_count": 3,
     "metadata": {},
     "output_type": "execute_result"
    }
   ],
   "source": [
    "'''4. Write python code to access the first row of the following array?\n",
    "[[1, 2, 3, 4]\n",
    "[5, 6, 7, 8],\n",
    "[9, 10, 11, 12]]\n",
    "'''\n",
    "import numpy as np\n",
    "\n",
    "arr1 =[[1, 2, 3, 4],\n",
    "        [5, 6, 7, 8],\n",
    "       [9, 10, 11, 12]]\n",
    "arr1[0] ## To access the first row"
   ]
  },
  {
   "cell_type": "code",
   "execution_count": 4,
   "id": "e98df195-fe83-4c93-87b1-790e835e606a",
   "metadata": {},
   "outputs": [
    {
     "data": {
      "text/plain": [
       "12"
      ]
     },
     "execution_count": 4,
     "metadata": {},
     "output_type": "execute_result"
    }
   ],
   "source": [
    "'''\n",
    "5. How do you access the element at the third row and fourth column from the given numpy array?\n",
    "[[1, 2, 3, 4]\n",
    "[5, 6, 7, 8],\n",
    "[9, 10, 11, 12]]\n",
    "\n",
    "'''\n",
    "import numpy as np\n",
    "\n",
    "arr=[[1, 2, 3, 4],\n",
    "     [5, 6, 7, 8],\n",
    "     [9, 10, 11, 12]]\n",
    "arr[2][3]"
   ]
  },
  {
   "cell_type": "code",
   "execution_count": 5,
   "id": "2f2f69bb-a2b3-44c3-bd90-33aeaaa256fd",
   "metadata": {},
   "outputs": [
    {
     "data": {
      "text/plain": [
       "array([[ 2,  4],\n",
       "       [ 6,  8],\n",
       "       [10, 12]])"
      ]
     },
     "execution_count": 5,
     "metadata": {},
     "output_type": "execute_result"
    }
   ],
   "source": [
    "'''\n",
    "6. Write code to extract all odd-indexed elements from the given numpy array?\n",
    "[[1, 2, 3, 4]\n",
    "[5, 6, 7, 8],\n",
    "[9, 10, 11, 12]]\n",
    "'''\n",
    "import numpy as np\n",
    "\n",
    "arr = np.array([[1, 2, 3, 4],\n",
    "                [5, 6, 7, 8],\n",
    "                [9, 10, 11, 12]])\n",
    "arr[:,1::2]"
   ]
  },
  {
   "cell_type": "code",
   "execution_count": 6,
   "id": "78117803-0858-4af8-938e-04e4317040dc",
   "metadata": {},
   "outputs": [
    {
     "data": {
      "text/plain": [
       "array([[0.45268513, 0.13969248, 0.68665596],\n",
       "       [0.3662242 , 0.67680884, 0.18871396],\n",
       "       [0.30698441, 0.08758081, 0.58016257]])"
      ]
     },
     "execution_count": 6,
     "metadata": {},
     "output_type": "execute_result"
    }
   ],
   "source": [
    "##7. How can you generate a random 3x3 matrix with values between 0 and 1?\n",
    "import numpy as np\n",
    "\n",
    "arr=np.random.rand(3,3)\n",
    "arr"
   ]
  },
  {
   "cell_type": "code",
   "execution_count": null,
   "id": "bbd8eea8-46ec-4d40-9879-eb63579eb6bc",
   "metadata": {},
   "outputs": [],
   "source": [
    "##8. Describe the difference between np.random.rand and np.random.randn?\n",
    "'''\n",
    "       np.random.rand                                    |         np.random.randn       \n",
    "                                                         |\n",
    "   Generates random numbers from a uniform distribution  | Generates random numbers from a standard normal distribution (mean=0,standard deviation=1).        \n",
    "over the interval [0, 1).                                |\n",
    "\n",
    "\n",
    "'''"
   ]
  },
  {
   "cell_type": "code",
   "execution_count": 7,
   "id": "3518ad3b-a542-425d-8497-53294affa6c0",
   "metadata": {},
   "outputs": [
    {
     "name": "stdout",
     "output_type": "stream",
     "text": [
      "3\n"
     ]
    }
   ],
   "source": [
    "'''\n",
    "9. Write code to increase the dimension of the following array?\n",
    "[[1, 2, 3, 4]\n",
    "[5, 6, 7, 8],\n",
    "[9, 10, 11, 12]]\n",
    "'''\n",
    "import numpy as np\n",
    "\n",
    "arr=np.array([[1, 2, 3, 4],\n",
    "               [5, 6, 7, 8],\n",
    "            [9, 10, 11, 12]])\n",
    "arr1=np.expand_dims(arr, axis=0)\n",
    "arr1\n",
    "print(arr1.ndim)"
   ]
  },
  {
   "cell_type": "code",
   "execution_count": 29,
   "id": "12549e45-60a7-4257-a01a-6741bc8fcfb0",
   "metadata": {},
   "outputs": [
    {
     "data": {
      "text/plain": [
       "array([[ 1,  5,  9],\n",
       "       [ 2,  6, 10],\n",
       "       [ 3,  7, 11],\n",
       "       [ 4,  8, 12]])"
      ]
     },
     "execution_count": 29,
     "metadata": {},
     "output_type": "execute_result"
    }
   ],
   "source": [
    "'''\n",
    "10. How to transpose the following array in NumPy?\n",
    "[[1, 2, 3, 4]\n",
    "[5, 6, 7, 8],\n",
    "[9, 10, 11, 12]]\n",
    "'''\n",
    "import numpy as np\n",
    "arr=np.array([[1, 2, 3, 4],\n",
    "             [5, 6, 7, 8],\n",
    "             [9, 10, 11, 12]])\n",
    "arr.T"
   ]
  },
  {
   "cell_type": "code",
   "execution_count": 20,
   "id": "f9592011-2898-4229-8643-75e5ed383fc8",
   "metadata": {},
   "outputs": [
    {
     "name": "stdout",
     "output_type": "stream",
     "text": [
      "[[  1   4   9  16]\n",
      " [ 25  36  49  64]\n",
      " [ 81 100 121 144]]\n",
      "[[ 2  4  6  8]\n",
      " [10 12 14 16]\n",
      " [18 20 22 24]]\n",
      "[[0 0 0 0]\n",
      " [0 0 0 0]\n",
      " [0 0 0 0]]\n",
      "[[1. 1. 1. 1.]\n",
      " [1. 1. 1. 1.]\n",
      " [1. 1. 1. 1.]]\n"
     ]
    }
   ],
   "source": [
    "'''\n",
    "11. Consider the following matrix:\n",
    "Matrix A: [[1, 2, 3, 4] [5, 6, 7, 8],[9, 10, 11, 12]]\n",
    "Matrix B: [[1, 2, 3, 4] [5, 6, 7, 8],[9, 10, 11, 12]]\n",
    "\n",
    "Perform the following operation using Python1\n",
    "\n",
    "1. Index wise multiplication\n",
    "2.Matrix multiplication\n",
    "3.Add both the matrics\n",
    "4.Subtract mattrix B from A\n",
    "5.Divide matrix B by A\n",
    "'''\n",
    "import numpy as np\n",
    "\n",
    "Matrix_A= ([[1, 2, 3, 4],[5, 6, 7, 8],[9, 10, 11, 12]])\n",
    "Matrix_B= ([[1, 2, 3, 4],[5, 6, 7, 8],[9, 10, 11, 12]])\n",
    "arr1=np.array(Matrix_A)\n",
    "arr2=np.array(Matrix_B)\n",
    "\n",
    "a=arr1*arr2\n",
    "##Matrix multiplication not possible because n!=p\n",
    "c=arr1 + arr2\n",
    "d=arr2 - arr1\n",
    "e=arr2/arr1\n",
    "print(a)\n",
    "\n",
    "print(c)\n",
    "print(d)\n",
    "print(e)"
   ]
  },
  {
   "cell_type": "code",
   "execution_count": null,
   "id": "2b231d03-ea76-44ef-9837-126e10fcc014",
   "metadata": {},
   "outputs": [],
   "source": [
    "##12. Which function in Numpy can be used to swap the byte order of an array?\n",
    "'''\n",
    "In NumPy, the function \"np.ndarray.byteswap()\" can be used to swap the byte order (endianess) of\n",
    "an array. This function is applicable for arrays with integer or floating-point data types\n",
    "'''"
   ]
  },
  {
   "cell_type": "code",
   "execution_count": null,
   "id": "7ac40838-3c7c-46f6-a240-1db0955f8a2f",
   "metadata": {},
   "outputs": [],
   "source": [
    "##13. What is the significance of the np.linalg.inv function?\n",
    "\n",
    "\"\"\"\n",
    "The 'np.linalg.inv' function in NumPy is used to find the inverse of a square matrix.\n",
    "The inverse of a matrix is like the \"opposite\" matrix that, when multiplied by the \n",
    "original matrix, gives the identity matrix.\n",
    "\n",
    "The significance of finding the inverse is that it helps in solving systems of linear equations,\n",
    "understanding the properties of the matrix, and performing certain mathematical operations in \n",
    "linear algebra. It's a useful tool when dealing with mathematical problems involving matrices.\n",
    "\"\"\""
   ]
  },
  {
   "cell_type": "code",
   "execution_count": null,
   "id": "c81508f2-996f-4af9-a9d6-98ba5243a621",
   "metadata": {},
   "outputs": [],
   "source": [
    "##14. What does the np.reshape function do, and how is it use?\n",
    "\n",
    "\"\"\"\n",
    "The 'np.reshape' function in NumPy is like rearranging the elements of a box to change its shape \n",
    "without adding or removing any items.\n",
    "\"\"\""
   ]
  },
  {
   "cell_type": "code",
   "execution_count": 30,
   "id": "75c1ecdd-3eeb-4900-b410-cda0435ffe02",
   "metadata": {},
   "outputs": [
    {
     "data": {
      "text/plain": [
       "array([[ 6,  7,  8],\n",
       "       [ 9, 10, 11]])"
      ]
     },
     "execution_count": 30,
     "metadata": {},
     "output_type": "execute_result"
    }
   ],
   "source": [
    "##15. What is broadcasting in Numpy?\n",
    "\"\"\"\n",
    "NumPy broadcasting is like a smart way for arrays of different shapes to work together\n",
    "without explicitly making them the same shape. It automatically adjusts their shapes to \n",
    "perform operations smoothly.\n",
    "\"\"\"\n",
    "import numpy as np\n",
    "\n",
    "\n",
    "A = np.array([[1, 2, 3],\n",
    "              [4, 5, 6]])\n",
    "A + 5\n",
    "\n",
    "\n"
   ]
  },
  {
   "cell_type": "code",
   "execution_count": null,
   "id": "ee98ad96-0e9d-4aab-af82-6c0134b4127e",
   "metadata": {},
   "outputs": [],
   "source": []
  }
 ],
 "metadata": {
  "kernelspec": {
   "display_name": "Python 3 (ipykernel)",
   "language": "python",
   "name": "python3"
  },
  "language_info": {
   "codemirror_mode": {
    "name": "ipython",
    "version": 3
   },
   "file_extension": ".py",
   "mimetype": "text/x-python",
   "name": "python",
   "nbconvert_exporter": "python",
   "pygments_lexer": "ipython3",
   "version": "3.10.8"
  }
 },
 "nbformat": 4,
 "nbformat_minor": 5
}
